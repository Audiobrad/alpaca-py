{
  "cells": [
    {
      "cell_type": "markdown",
      "metadata": {
        "id": "gWDl1jAn-X82"
      },
      "source": [
        "# Alpaca-py stock trading basic"
      ]
    },
    {
      "cell_type": "markdown",
      "metadata": {
        "id": "Abi2yqTd-X87"
      },
      "source": [
        "[![Open In Colab](https://colab.research.google.com/assets/colab-badge.svg)](https://colab.research.google.com/github/alpacahq/alpaca-py/blob/master/examples/stocks-trading-basic.ipynb)"
      ]
    },
    {
      "cell_type": "markdown",
      "metadata": {
        "id": "PwhIi-IW-X87"
      },
      "source": [
        "- This notebook shows how to use alpaca-py with stock trading API endpoints\n",
        "- Please use ``paper account``. Please ``DO NOT`` use this notebook with live account. In this notebook, we place orders for stocks as an example."
      ]
    },
    {
      "cell_type": "code",
      "execution_count": null,
      "metadata": {
        "id": "8L9J_m8C-X89"
      },
      "outputs": [],
      "source": [
        "# Please change the following to your own PAPER api key and secret\n",
        "# You can get them from https://alpaca.markets/\n",
        "\n",
        "api_key = \"<YOUR PAPER API KEY>\"\n",
        "secret_key = \"<YOUR PAPER API SECRET>\"\n",
        "\n",
        "#### We use paper environment for this example ####\n",
        "paper = True # Please do not modify this. This example is for paper trading only.\n",
        "####\n",
        "\n",
        "# Below are the variables for development this documents\n",
        "# Please do not change these variables\n",
        "trade_api_url = None\n",
        "trade_api_wss = None\n",
        "data_api_url = None\n",
        "stream_data_wss = None"
      ]
    },
    {
      "cell_type": "code",
      "execution_count": null,
      "metadata": {
        "id": "ThLwNJ2f-X8_"
      },
      "outputs": [],
      "source": [
        "# install alpaca-py\n",
        "! python3 -m pip install alpaca-py"
      ]
    },
    {
      "cell_type": "code",
      "execution_count": null,
      "metadata": {
        "id": "P3mNS5Ew-X9A"
      },
      "outputs": [],
      "source": [
        "import json\n",
        "from datetime import datetime, timedelta\n",
        "from zoneinfo import ZoneInfo\n",
        "\n",
        "import alpaca\n",
        "from alpaca.data.live.stock import *\n",
        "from alpaca.data.historical.stock import *\n",
        "from alpaca.data.requests import *\n",
        "from alpaca.data.timeframe import *\n",
        "from alpaca.trading.client import *\n",
        "from alpaca.trading.stream import *\n",
        "from alpaca.trading.requests import *\n",
        "from alpaca.trading.enums import *\n",
        "from alpaca.common.exceptions import APIError"
      ]
    },
    {
      "cell_type": "code",
      "execution_count": null,
      "metadata": {
        "id": "W9FGs4ae-X9B"
      },
      "outputs": [],
      "source": [
        "# to run async code in jupyter notebook\n",
        "import nest_asyncio\n",
        "nest_asyncio.apply()"
      ]
    },
    {
      "cell_type": "code",
      "execution_count": null,
      "metadata": {
        "id": "SivMYsTN-X9C"
      },
      "outputs": [],
      "source": [
        "# check version of alpaca-py\n",
        "alpaca.__version__"
      ]
    },
    {
      "cell_type": "markdown",
      "metadata": {
        "id": "IvuFFdC_-X9C"
      },
      "source": [
        "# Trading Client"
      ]
    },
    {
      "cell_type": "code",
      "execution_count": null,
      "metadata": {
        "id": "4lOiGsm_-X9D"
      },
      "outputs": [],
      "source": [
        "# setup clients\n",
        "trade_client = TradingClient(api_key=api_key, secret_key=secret_key, paper=paper, url_override=trade_api_url)"
      ]
    },
    {
      "cell_type": "code",
      "execution_count": null,
      "metadata": {
        "id": "WuVyA7UM-X9E"
      },
      "outputs": [],
      "source": [
        "# check trading account\n",
        "# You can check definition of each field in the following documents\n",
        "# ref. https://docs.alpaca.markets/docs/account-plans\n",
        "# ref. https://docs.alpaca.markets/reference/getaccount-1\n",
        "acct = trade_client.get_account()\n",
        "acct"
      ]
    },
    {
      "cell_type": "code",
      "execution_count": null,
      "metadata": {
        "id": "Lfua8mub-X9E"
      },
      "outputs": [],
      "source": [
        "# check account configuration\n",
        "# ref. https://docs.alpaca.markets/reference/getaccountconfig-1\n",
        "acct_config = trade_client.get_account_configurations()\n",
        "acct_config"
      ]
    },
    {
      "cell_type": "code",
      "execution_count": null,
      "metadata": {
        "id": "pZHd6Z7P-X9E"
      },
      "outputs": [],
      "source": [
        "# set account configuration\n",
        "# ref. https://docs.alpaca.markets/reference/patchaccountconfig-1\n",
        "req = acct_config\n",
        "req.fractional_trading = not req.fractional_trading # toggle fractional trading\n",
        "acct_config_new = trade_client.set_account_configurations(req)\n",
        "display(acct_config_new)\n",
        "\n",
        "# revert changes\n",
        "req = acct_config_new\n",
        "req.fractional_trading = not req.fractional_trading # toggle fractional trading\n",
        "acct_config_reverted = trade_client.set_account_configurations(req)\n",
        "display(acct_config_reverted)"
      ]
    },
    {
      "cell_type": "code",
      "execution_count": null,
      "metadata": {
        "id": "2mmOvhIT-X9F"
      },
      "outputs": [],
      "source": [
        "# get list of assets which are us_equity (default), active, and in NASDAQ\n",
        "# ref. https://docs.alpaca.markets/reference/get-v2-assets-1\n",
        "req = GetAssetsRequest(\n",
        "  # asset_class=AssetClass.US_EQUITY,  # default asset_class is us_equity\n",
        "  status=AssetStatus.ACTIVE,\n",
        "  exchange=AssetExchange.NASDAQ,\n",
        ")\n",
        "assets = trade_client.get_all_assets(req)\n",
        "assets[:2]"
      ]
    },
    {
      "cell_type": "markdown",
      "metadata": {
        "id": "YXfmF5Tu-X9F"
      },
      "source": [
        "### Orders"
      ]
    },
    {
      "cell_type": "code",
      "execution_count": null,
      "metadata": {
        "id": "etm0c5Iv-X9F"
      },
      "outputs": [],
      "source": [
        "# we will place orders which Alapca trading platform supports\n",
        "# - order classes: simple, bracket, oco, oto\n",
        "# - order types: market, limit, stop, stop_limit, trailing_stop\n",
        "#\n",
        "# please refer to the following documents for more details\n",
        "# ref. https://docs.alpaca.markets/docs/orders-at-alpaca\n",
        "# ref. https://docs.alpaca.markets/reference/postorder\n",
        "#\n",
        "# we will also use fractional trading capability of Alpaca trading platform in this example\n",
        "# ref. https://docs.alpaca.markets/docs/fractional-trading\n",
        "\n",
        "# we will place orders for symbol: SPY in this example\n",
        "symbol = \"SPY\""
      ]
    },
    {
      "cell_type": "code",
      "execution_count": null,
      "metadata": {
        "id": "5mERRAQZ-X9G"
      },
      "outputs": [],
      "source": [
        "# simple, market order, fractional qty\n",
        "# Alpaca trading platform support fractional trading by default\n",
        "# you can specify:\n",
        "# fractional qty (e.g. 0.01 qty) in the order request (which is shown in this example)\n",
        "# or notional value (e.g. 100 USD) (which is in the next example)\n",
        "req = MarketOrderRequest(\n",
        "    symbol = symbol,\n",
        "    qty = 5.5,\n",
        "    side = OrderSide.BUY,\n",
        "    type = OrderType.MARKET,\n",
        "    time_in_force = TimeInForce.DAY,\n",
        ")\n",
        "res = trade_client.submit_order(req)\n",
        "res"
      ]
    },
    {
      "cell_type": "code",
      "execution_count": null,
      "metadata": {
        "id": "h6hw3BeH-X9G"
      },
      "outputs": [],
      "source": [
        "# simple, market order, notional\n",
        "# Alpaca trading platform support fractional trading by default\n",
        "# you can specify:\n",
        "# fractional qty (e.g. 0.01 qty) in the order request (which is in the example above)\n",
        "# or notional value (e.g. 100 USD) (which is in this example)\n",
        "req = MarketOrderRequest(\n",
        "    symbol = symbol,\n",
        "    notional = 1.11,  # notional is specified in USD, here we specify $1.11\n",
        "    side = OrderSide.BUY,\n",
        "    type = OrderType.MARKET,\n",
        "    time_in_force = TimeInForce.DAY,\n",
        ")\n",
        "res = trade_client.submit_order(req)\n",
        "res"
      ]
    },
    {
      "cell_type": "code",
      "execution_count": null,
      "metadata": {
        "id": "abDv9WuW-X9G"
      },
      "outputs": [],
      "source": [
        "# simple, limit order, fractional qty\n",
        "req = LimitOrderRequest(\n",
        "    symbol = symbol,\n",
        "    qty = 0.01,\n",
        "    limit_price = 550.25,\n",
        "    side = OrderSide.BUY,\n",
        "    type = OrderType.LIMIT,\n",
        "    time_in_force = TimeInForce.DAY,\n",
        ")\n",
        "res = trade_client.submit_order(req)\n",
        "res"
      ]
    },
    {
      "cell_type": "code",
      "execution_count": null,
      "metadata": {
        "id": "CbYUj9SM-X9G"
      },
      "outputs": [],
      "source": [
        "# stop order\n",
        "req = StopOrderRequest(\n",
        "                    symbol = symbol,\n",
        "                    qty = 1,\n",
        "                    side = OrderSide.BUY,\n",
        "                    time_in_force = TimeInForce.GTC,\n",
        "                    stop_price = 600\n",
        "                    )\n",
        "\n",
        "res = trade_client.submit_order(req)\n",
        "res"
      ]
    },
    {
      "cell_type": "code",
      "execution_count": null,
      "metadata": {
        "id": "GfcMufGm-X9H"
      },
      "outputs": [],
      "source": [
        "# stop limit order\n",
        "req = StopLimitOrderRequest(\n",
        "                    symbol = symbol,\n",
        "                    qty = 1,\n",
        "                    side = OrderSide.BUY,\n",
        "                    time_in_force = TimeInForce.GTC,\n",
        "                    limit_price = 550,\n",
        "                    stop_price = 600\n",
        "                    )\n",
        "\n",
        "res = trade_client.submit_order(req)\n",
        "res"
      ]
    },
    {
      "cell_type": "code",
      "execution_count": null,
      "metadata": {
        "id": "oahsu_ws-X9H"
      },
      "outputs": [],
      "source": [
        "# bracket order with both stop loss and take profit\n",
        "req = MarketOrderRequest(\n",
        "                    symbol = symbol,\n",
        "                    qty = 5,\n",
        "                    side = OrderSide.BUY,\n",
        "                    time_in_force = TimeInForce.DAY,\n",
        "                    order_class = OrderClass.BRACKET,\n",
        "                    take_profit = TakeProfitRequest(limit_price=600),\n",
        "                    stop_loss = StopLossRequest(stop_price=300)\n",
        ")\n",
        "res = trade_client.submit_order(req)\n",
        "res"
      ]
    },
    {
      "cell_type": "code",
      "execution_count": null,
      "metadata": {
        "id": "1tcoDFni-X9H"
      },
      "outputs": [],
      "source": [
        "# oto order with stop loss\n",
        "req = LimitOrderRequest(\n",
        "                    symbol = symbol,\n",
        "                    qty = 1,\n",
        "                    limit_price = 500,\n",
        "                    side = OrderSide.BUY,\n",
        "                    time_in_force = TimeInForce.DAY,\n",
        "                    Class = OrderClass.OTO,\n",
        "                    stop_loss = StopLossRequest(stop_price = 300)\n",
        "                    )\n",
        "\n",
        "res = trade_client.submit_order(req)\n",
        "res"
      ]
    },
    {
      "cell_type": "code",
      "execution_count": null,
      "metadata": {
        "id": "Yf0dwtV5-X9H"
      },
      "outputs": [],
      "source": [
        "# oco limit order\n",
        "req = LimitOrderRequest(\n",
        "                    symbol = symbol,\n",
        "                    qty = 1,\n",
        "                    limit_price = 500,\n",
        "                    side = OrderSide.BUY,\n",
        "                    time_in_force = TimeInForce.DAY,\n",
        "                    Class = OrderClass.OCO\n",
        "                    )\n",
        "\n",
        "res = trade_client.submit_order(req)\n",
        "res"
      ]
    },
    {
      "cell_type": "code",
      "execution_count": null,
      "metadata": {
        "id": "hGDLKGwe-X9H"
      },
      "outputs": [],
      "source": [
        "# trailing stop order\n",
        "req = TrailingStopOrderRequest(\n",
        "                    symbol = symbol,\n",
        "                    qty = 1,\n",
        "                    side = OrderSide.SELL,\n",
        "                    time_in_force = TimeInForce.GTC,\n",
        "                    trail_percent = 0.20 # you can also use trail_price instead of trail_percent\n",
        "                    )\n",
        "\n",
        "res = trade_client.submit_order(req)\n",
        "res"
      ]
    },
    {
      "cell_type": "code",
      "execution_count": null,
      "metadata": {
        "id": "I5Hc3BE8-X9I"
      },
      "outputs": [],
      "source": [
        "# get a list of orders including closed (e.g. filled) orders by specifying symbol\n",
        "req = GetOrdersRequest(\n",
        "    status = QueryOrderStatus.ALL,\n",
        "    symbols = [symbol]\n",
        ")\n",
        "orders = trade_client.get_orders(req)\n",
        "orders"
      ]
    },
    {
      "cell_type": "code",
      "execution_count": null,
      "metadata": {
        "id": "FoBdKzIM-X9I"
      },
      "outputs": [],
      "source": [
        "# see all open orders\n",
        "req = GetOrdersRequest(\n",
        "    status = QueryOrderStatus.OPEN,\n",
        "    symbols = [symbol]\n",
        ")\n",
        "open_orders = trade_client.get_orders(req)\n",
        "open_orders"
      ]
    },
    {
      "cell_type": "code",
      "execution_count": null,
      "metadata": {
        "id": "4waL2ry8-X9I"
      },
      "outputs": [],
      "source": [
        "# cancel all open orders\n",
        "trade_client.cancel_orders()"
      ]
    },
    {
      "cell_type": "markdown",
      "metadata": {
        "id": "1MRWkz3c-X9I"
      },
      "source": [
        "### Positions"
      ]
    },
    {
      "cell_type": "code",
      "execution_count": null,
      "metadata": {
        "id": "Ebk-XyBl-X9I"
      },
      "outputs": [],
      "source": [
        "# get all open positions\n",
        "# ref. https://docs.alpaca.markets/reference/getallopenpositions-1\n",
        "positions = trade_client.get_all_positions()\n",
        "positions"
      ]
    },
    {
      "cell_type": "code",
      "execution_count": null,
      "metadata": {
        "id": "2I6VgRv_-X9J"
      },
      "outputs": [],
      "source": [
        "# get positions by symbol\n",
        "# ref. https://docs.alpaca.markets/reference/getopenposition-1\n",
        "position = trade_client.get_open_position(symbol_or_asset_id=symbol)\n",
        "position\n"
      ]
    },
    {
      "cell_type": "code",
      "execution_count": null,
      "metadata": {
        "id": "oz6-_lHZ-X9J"
      },
      "outputs": [],
      "source": [
        "# get positions by asset_id\n",
        "trade_client.get_open_position(symbol_or_asset_id=position.asset_id)"
      ]
    },
    {
      "cell_type": "code",
      "execution_count": null,
      "metadata": {
        "id": "rCE24EEp-X9J"
      },
      "outputs": [],
      "source": [
        "# close the position with specifying qty\n",
        "# ref. https://docs.alpaca.markets/reference/deleteopenposition-1\n",
        "trade_client.close_position(\n",
        "    symbol_or_asset_id = symbol,\n",
        "    close_options = ClosePositionRequest(\n",
        "        qty = \"0.01\",\n",
        "    )\n",
        ")"
      ]
    },
    {
      "cell_type": "markdown",
      "metadata": {
        "id": "SuNEAZvj-X9J"
      },
      "source": [
        "# Trade Update (Stream)"
      ]
    },
    {
      "cell_type": "markdown",
      "metadata": {
        "id": "eII33CM8-X9K"
      },
      "source": [
        "With TradingStream client, you can get updates about trades\n",
        "\n",
        "You can open this notebook in another window and run below cell to check trade updates."
      ]
    },
    {
      "cell_type": "code",
      "execution_count": null,
      "metadata": {
        "id": "GvqTp2za-X9K"
      },
      "outputs": [],
      "source": [
        "# subscribe trade updates\n",
        "trade_stream_client = TradingStream(api_key, secret_key, paper=paper, url_override = trade_api_wss)\n",
        "\n",
        "async def trade_updates_handler(data):\n",
        "    print(data)\n",
        "\n",
        "trade_stream_client.subscribe_trade_updates(trade_updates_handler)\n",
        "trade_stream_client.run()"
      ]
    },
    {
      "cell_type": "markdown",
      "metadata": {
        "id": "Fd4nZ5Ox-X9K"
      },
      "source": [
        "# Market Data (Historical)"
      ]
    },
    {
      "cell_type": "code",
      "execution_count": null,
      "metadata": {
        "id": "7mYVmAkm-X9L"
      },
      "outputs": [],
      "source": [
        "# setup stock historical data client\n",
        "stock_historical_data_client = StockHistoricalDataClient(api_key, secret_key, url_override = data_api_url)"
      ]
    },
    {
      "cell_type": "code",
      "execution_count": null,
      "metadata": {
        "id": "2UveYkcV-X9L"
      },
      "outputs": [],
      "source": [
        "# get historical bars by symbol\n",
        "# ref. https://docs.alpaca.markets/reference/stockbars-1\n",
        "now = datetime.now(ZoneInfo(\"America/New_York\"))\n",
        "req = StockBarsRequest(\n",
        "    symbol_or_symbols = [symbol],\n",
        "    timeframe=TimeFrame(amount = 1, unit = TimeFrameUnit.Hour), # specify timeframe\n",
        "    start = now - timedelta(days = 5),                          # specify start datetime, default=the beginning of the current day.\n",
        "    # end_date=None,                                        # specify end datetime, default=now\n",
        "    limit = 2,                                               # specify limit\n",
        ")\n",
        "stock_historical_data_client.get_stock_bars(req).df"
      ]
    },
    {
      "cell_type": "code",
      "execution_count": null,
      "metadata": {
        "id": "8UsAQLZ1-X9S"
      },
      "outputs": [],
      "source": [
        "# get historical trades by symbol\n",
        "req = StockTradesRequest(\n",
        "    symbol_or_symbols = [symbol],\n",
        "    start = now - timedelta(days = 5),                          # specify start datetime, default=the beginning of the current day.\n",
        "    # end=None,                                             # specify end datetime, default=now\n",
        "    limit = 2,                                                # specify limit\n",
        ")\n",
        "stock_historical_data_client.get_stock_trades(req).df"
      ]
    },
    {
      "cell_type": "code",
      "execution_count": null,
      "metadata": {
        "id": "QjtOggX2-X9S"
      },
      "outputs": [],
      "source": [
        "# get historical quotes by symbol\n",
        "req = StockQuotesRequest(\n",
        "    symbol_or_symbols = [symbol],\n",
        "    start = now - timedelta(days = 5),                      # specify start datetime, default=the beginning of the current day.\n",
        "    # end=None,                                             # specify end datetime, default=now\n",
        "    limit = 2,                                              # specify limit\n",
        ")\n",
        "stock_historical_data_client.get_stock_quotes(req).df"
      ]
    },
    {
      "cell_type": "code",
      "execution_count": null,
      "metadata": {
        "id": "BwQERzo0-X9T"
      },
      "outputs": [],
      "source": [
        "# get latest quotes by symbol\n",
        "req = StockQuotesRequest(\n",
        "    symbol_or_symbols = [symbol],\n",
        ")\n",
        "res = stock_historical_data_client.get_stock_latest_quote(req)\n",
        "res"
      ]
    },
    {
      "cell_type": "markdown",
      "metadata": {
        "id": "kWnBP42R-X9T"
      },
      "source": [
        "# Market Data (Stream)"
      ]
    },
    {
      "cell_type": "code",
      "execution_count": null,
      "metadata": {
        "id": "Fqkv6Ja3-X9T"
      },
      "outputs": [],
      "source": [
        "stock_data_stream_client = StockDataStream(api_key, secret_key, url_override = stream_data_wss)\n",
        "\n",
        "async def stock_data_stream_handler(data):\n",
        "    print(data)\n",
        "\n",
        "symbols = [symbol]\n",
        "\n",
        "stock_data_stream_client.subscribe_quotes(stock_data_stream_handler, *symbols)\n",
        "stock_data_stream_client.subscribe_trades(stock_data_stream_handler, *symbols)\n",
        "\n",
        "stock_data_stream_client.run()"
      ]
    },
    {
      "cell_type": "code",
      "execution_count": null,
      "metadata": {
        "id": "j8nDTJCC-X9T"
      },
      "outputs": [],
      "source": []
    }
  ],
  "metadata": {
    "kernelspec": {
      "display_name": ".venv",
      "language": "python",
      "name": "python3"
    },
    "language_info": {
      "codemirror_mode": {
        "name": "ipython",
        "version": 3
      },
      "file_extension": ".py",
      "mimetype": "text/x-python",
      "name": "python",
      "nbconvert_exporter": "python",
      "pygments_lexer": "ipython3",
      "version": "3.12.2"
    },
    "colab": {
      "provenance": []
    }
  },
  "nbformat": 4,
  "nbformat_minor": 0
}